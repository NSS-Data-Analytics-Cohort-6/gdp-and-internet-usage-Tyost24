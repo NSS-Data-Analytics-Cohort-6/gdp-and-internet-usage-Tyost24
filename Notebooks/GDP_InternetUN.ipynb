{
 "cells": [
  {
   "cell_type": "code",
   "execution_count": 1,
   "id": "e75c3095",
   "metadata": {},
   "outputs": [],
   "source": [
    "import pandas as pd\n",
    "import numpy as np\n",
    "import matplotlib.pyplot as plt\n",
    "import seaborn as sns"
   ]
  },
  {
   "cell_type": "code",
   "execution_count": 2,
   "id": "a940c1ae",
   "metadata": {},
   "outputs": [],
   "source": [
    "%matplotlib inline"
   ]
  },
  {
   "cell_type": "code",
   "execution_count": 4,
   "id": "3c5cf9b4",
   "metadata": {},
   "outputs": [],
   "source": [
    "gdp_df = pd.read_csv('../data/gdp_percapita.csv')"
   ]
  },
  {
   "cell_type": "code",
   "execution_count": 5,
   "id": "57621d96",
   "metadata": {},
   "outputs": [],
   "source": [
    "internet_df = pd.read_csv(\"../data/internet_use.csv\", nrows=4496)"
   ]
  },
  {
   "cell_type": "code",
   "execution_count": 6,
   "id": "a3f5467a",
   "metadata": {},
   "outputs": [
    {
     "name": "stdout",
     "output_type": "stream",
     "text": [
      "     Country or Area                                      Year        Value  \\\n",
      "0        Afghanistan                                      2019  2065.036398   \n",
      "1        Afghanistan                                      2018  2033.779002   \n",
      "2        Afghanistan                                      2017  2058.383832   \n",
      "3        Afghanistan                                      2016  2057.062164   \n",
      "4        Afghanistan                                      2015  2068.265904   \n",
      "...              ...                                       ...          ...   \n",
      "6865        Zimbabwe                                      1992  3054.889178   \n",
      "6866        Zimbabwe                                      1991  3426.598094   \n",
      "6867        Zimbabwe                                      1990  3324.348171   \n",
      "6868   footnoteSeqID                                  Footnote          NaN   \n",
      "6869               2  Excludes South Sudan after July 9, 2011.          NaN   \n",
      "\n",
      "      Value Footnotes  \n",
      "0                 NaN  \n",
      "1                 NaN  \n",
      "2                 NaN  \n",
      "3                 NaN  \n",
      "4                 NaN  \n",
      "...               ...  \n",
      "6865              NaN  \n",
      "6866              NaN  \n",
      "6867              NaN  \n",
      "6868              NaN  \n",
      "6869              NaN  \n",
      "\n",
      "[6870 rows x 4 columns]\n"
     ]
    }
   ],
   "source": [
    "print(gdp_df[:])\n",
    "## Q7: There are  6860 rows and 4 Columns"
   ]
  },
  {
   "cell_type": "code",
   "execution_count": 9,
   "id": "876c8309",
   "metadata": {},
   "outputs": [
    {
     "name": "stdout",
     "output_type": "stream",
     "text": [
      "     Country or Area      Year     Value  Value Footnotes\n",
      "0        Afghanistan      2014  6.390000              NaN\n",
      "1        Afghanistan      2013  5.900000              NaN\n",
      "2        Afghanistan      2012  5.454545              NaN\n",
      "3        Afghanistan      2011  5.000000              NaN\n",
      "4        Afghanistan      2010  4.000000              NaN\n",
      "...              ...       ...       ...              ...\n",
      "4491        Zimbabwe      1996  0.016790              NaN\n",
      "4492        Zimbabwe      1995  0.007684              NaN\n",
      "4493        Zimbabwe      1994  0.001739              NaN\n",
      "4494        Zimbabwe      1990  0.000000              NaN\n",
      "4495   footnoteSeqID  Footnote       NaN              NaN\n",
      "\n",
      "[4496 rows x 4 columns]\n"
     ]
    }
   ],
   "source": [
    "print(internet_df[:])\n",
    "## Q7 There are 4496 rows and 4 columns"
   ]
  },
  {
   "cell_type": "code",
   "execution_count": 10,
   "id": "edf36696",
   "metadata": {},
   "outputs": [
    {
     "name": "stdout",
     "output_type": "stream",
     "text": [
      "Country or Area     object\n",
      "Year                object\n",
      "Value              float64\n",
      "Value Footnotes    float64\n",
      "dtype: object\n"
     ]
    }
   ],
   "source": [
    "print(gdp_df.dtypes)\n",
    "## Q:8"
   ]
  },
  {
   "cell_type": "code",
   "execution_count": 11,
   "id": "0f94610b",
   "metadata": {},
   "outputs": [
    {
     "name": "stdout",
     "output_type": "stream",
     "text": [
      "Country or Area     object\n",
      "Year                object\n",
      "Value              float64\n",
      "Value Footnotes    float64\n",
      "dtype: object\n"
     ]
    }
   ],
   "source": [
    "print(internet_df.dtypes)\n",
    "## Q:8"
   ]
  },
  {
   "cell_type": "code",
   "execution_count": 13,
   "id": "448499fd",
   "metadata": {},
   "outputs": [
    {
     "name": "stdout",
     "output_type": "stream",
     "text": [
      "     Country or Area                                      Year        Value  \\\n",
      "6860        Zimbabwe                                      1997  3580.048793   \n",
      "6861        Zimbabwe                                      1996  3520.430146   \n",
      "6862        Zimbabwe                                      1995  3226.413930   \n",
      "6863        Zimbabwe                                      1994  3263.934978   \n",
      "6864        Zimbabwe                                      1993  3033.504852   \n",
      "6865        Zimbabwe                                      1992  3054.889178   \n",
      "6866        Zimbabwe                                      1991  3426.598094   \n",
      "6867        Zimbabwe                                      1990  3324.348171   \n",
      "6868   footnoteSeqID                                  Footnote          NaN   \n",
      "6869               2  Excludes South Sudan after July 9, 2011.          NaN   \n",
      "\n",
      "      Value Footnotes  \n",
      "6860              NaN  \n",
      "6861              NaN  \n",
      "6862              NaN  \n",
      "6863              NaN  \n",
      "6864              NaN  \n",
      "6865              NaN  \n",
      "6866              NaN  \n",
      "6867              NaN  \n",
      "6868              NaN  \n",
      "6869              NaN  \n"
     ]
    }
   ],
   "source": [
    "print(gdp_df[-10:])\n",
    "## Q:9"
   ]
  },
  {
   "cell_type": "code",
   "execution_count": 15,
   "id": "99724308",
   "metadata": {},
   "outputs": [
    {
     "name": "stdout",
     "output_type": "stream",
     "text": [
      "     Country or Area      Year     Value  Value Footnotes\n",
      "4486        Zimbabwe      2001  0.799846              NaN\n",
      "4487        Zimbabwe      2000  0.401434              NaN\n",
      "4488        Zimbabwe      1999  0.161676              NaN\n",
      "4489        Zimbabwe      1998  0.081648              NaN\n",
      "4490        Zimbabwe      1997  0.033080              NaN\n",
      "4491        Zimbabwe      1996  0.016790              NaN\n",
      "4492        Zimbabwe      1995  0.007684              NaN\n",
      "4493        Zimbabwe      1994  0.001739              NaN\n",
      "4494        Zimbabwe      1990  0.000000              NaN\n",
      "4495   footnoteSeqID  Footnote       NaN              NaN\n"
     ]
    }
   ],
   "source": [
    "print(internet_df[-10:])\n",
    "## Q:9"
   ]
  },
  {
   "cell_type": "code",
   "execution_count": 18,
   "id": "3e56d4bd",
   "metadata": {},
   "outputs": [],
   "source": [
    "del gdp_df['Value Footnotes']"
   ]
  },
  {
   "cell_type": "code",
   "execution_count": 19,
   "id": "a2ca8a5a",
   "metadata": {},
   "outputs": [
    {
     "name": "stdout",
     "output_type": "stream",
     "text": [
      "     Country or Area                                      Year        Value\n",
      "0        Afghanistan                                      2019  2065.036398\n",
      "1        Afghanistan                                      2018  2033.779002\n",
      "2        Afghanistan                                      2017  2058.383832\n",
      "3        Afghanistan                                      2016  2057.062164\n",
      "4        Afghanistan                                      2015  2068.265904\n",
      "...              ...                                       ...          ...\n",
      "6865        Zimbabwe                                      1992  3054.889178\n",
      "6866        Zimbabwe                                      1991  3426.598094\n",
      "6867        Zimbabwe                                      1990  3324.348171\n",
      "6868   footnoteSeqID                                  Footnote          NaN\n",
      "6869               2  Excludes South Sudan after July 9, 2011.          NaN\n",
      "\n",
      "[6870 rows x 3 columns]\n"
     ]
    }
   ],
   "source": [
    "print(gdp_df)\n",
    "## Q:10"
   ]
  },
  {
   "cell_type": "code",
   "execution_count": 23,
   "id": "ec34a2b0",
   "metadata": {},
   "outputs": [
    {
     "name": "stdout",
     "output_type": "stream",
     "text": [
      "     Country or Area      Year     Value\n",
      "0        Afghanistan      2014  6.390000\n",
      "1        Afghanistan      2013  5.900000\n",
      "2        Afghanistan      2012  5.454545\n",
      "3        Afghanistan      2011  5.000000\n",
      "4        Afghanistan      2010  4.000000\n",
      "...              ...       ...       ...\n",
      "4491        Zimbabwe      1996  0.016790\n",
      "4492        Zimbabwe      1995  0.007684\n",
      "4493        Zimbabwe      1994  0.001739\n",
      "4494        Zimbabwe      1990  0.000000\n",
      "4495   footnoteSeqID  Footnote       NaN\n",
      "\n",
      "[4496 rows x 3 columns]\n"
     ]
    }
   ],
   "source": [
    " del internet_df['Value Footnotes']\n",
    "print(internet_df)\n",
    "## Q:10"
   ]
  },
  {
   "cell_type": "code",
   "execution_count": 33,
   "id": "8e9b691c",
   "metadata": {},
   "outputs": [
    {
     "name": "stdout",
     "output_type": "stream",
     "text": [
      "            Country                                      Year  GDP_Per_Capita\n",
      "0       Afghanistan                                      2019     2065.036398\n",
      "1       Afghanistan                                      2018     2033.779002\n",
      "2       Afghanistan                                      2017     2058.383832\n",
      "3       Afghanistan                                      2016     2057.062164\n",
      "4       Afghanistan                                      2015     2068.265904\n",
      "...             ...                                       ...             ...\n",
      "6865       Zimbabwe                                      1992     3054.889178\n",
      "6866       Zimbabwe                                      1991     3426.598094\n",
      "6867       Zimbabwe                                      1990     3324.348171\n",
      "6868  footnoteSeqID                                  Footnote             NaN\n",
      "6869              2  Excludes South Sudan after July 9, 2011.             NaN\n",
      "\n",
      "[6870 rows x 3 columns]\n"
     ]
    }
   ],
   "source": [
    "gdp_df.columns = ['Country', 'Year', 'GDP_Per_Capita']\n",
    "print(gdp_df)\n",
    "## Q:11"
   ]
  },
  {
   "cell_type": "code",
   "execution_count": 37,
   "id": "61cb881d",
   "metadata": {},
   "outputs": [
    {
     "name": "stdout",
     "output_type": "stream",
     "text": [
      "            Country      Year  Internet_Users_PCT\n",
      "0       Afghanistan      2014            6.390000\n",
      "1       Afghanistan      2013            5.900000\n",
      "2       Afghanistan      2012            5.454545\n",
      "3       Afghanistan      2011            5.000000\n",
      "4       Afghanistan      2010            4.000000\n",
      "...             ...       ...                 ...\n",
      "4491       Zimbabwe      1996            0.016790\n",
      "4492       Zimbabwe      1995            0.007684\n",
      "4493       Zimbabwe      1994            0.001739\n",
      "4494       Zimbabwe      1990            0.000000\n",
      "4495  footnoteSeqID  Footnote                 NaN\n",
      "\n",
      "[4496 rows x 3 columns]\n"
     ]
    }
   ],
   "source": [
    "internet_df.columns = ['Country', 'Year', 'Internet_Users_PCT']\n",
    "print(internet_df)\n",
    "## Q:12"
   ]
  },
  {
   "cell_type": "code",
   "execution_count": 39,
   "id": "495af1c6",
   "metadata": {},
   "outputs": [
    {
     "name": "stdout",
     "output_type": "stream",
     "text": [
      "          Country                                      Year  \\\n",
      "0     Afghanistan                                      2014   \n",
      "1     Afghanistan                                      2013   \n",
      "2     Afghanistan                                      2012   \n",
      "3     Afghanistan                                      2011   \n",
      "4     Afghanistan                                      2010   \n",
      "...           ...                                       ...   \n",
      "7902     Zimbabwe                                      2015   \n",
      "7903     Zimbabwe                                      1993   \n",
      "7904     Zimbabwe                                      1992   \n",
      "7905     Zimbabwe                                      1991   \n",
      "7906            2  Excludes South Sudan after July 9, 2011.   \n",
      "\n",
      "      Internet_Users_PCT  GDP_Per_Capita  \n",
      "0               6.390000     2102.385234  \n",
      "1               5.900000     2116.465454  \n",
      "2               5.454545     2075.491747  \n",
      "3               5.000000     1904.559799  \n",
      "4               4.000000     1957.029338  \n",
      "...                  ...             ...  \n",
      "7902                 NaN     2958.209004  \n",
      "7903                 NaN     3033.504852  \n",
      "7904                 NaN     3054.889178  \n",
      "7905                 NaN     3426.598094  \n",
      "7906                 NaN             NaN  \n",
      "\n",
      "[7907 rows x 4 columns]\n"
     ]
    }
   ],
   "source": [
    "outer_merged = pd.merge(internet_df, gdp_df, how=\"outer\", on=[\"Country\", \"Year\"])\n",
    "outer_merged.head()\n",
    "outer_merged.shape\n",
    "print(outer_merged)\n",
    "## Q:13"
   ]
  },
  {
   "cell_type": "code",
   "execution_count": 40,
   "id": "f8452248",
   "metadata": {},
   "outputs": [
    {
     "name": "stdout",
     "output_type": "stream",
     "text": [
      "          Country                                      Year  \\\n",
      "5     Afghanistan                                      2009   \n",
      "6     Afghanistan                                      2008   \n",
      "7     Afghanistan                                      2007   \n",
      "8     Afghanistan                                      2006   \n",
      "9     Afghanistan                                      2005   \n",
      "...           ...                                       ...   \n",
      "7902     Zimbabwe                                      2015   \n",
      "7903     Zimbabwe                                      1993   \n",
      "7904     Zimbabwe                                      1992   \n",
      "7905     Zimbabwe                                      1991   \n",
      "7906            2  Excludes South Sudan after July 9, 2011.   \n",
      "\n",
      "      Internet_Users_PCT  GDP_Per_Capita  \n",
      "5               3.550000     1758.904043  \n",
      "6               1.840000     1484.114729  \n",
      "7               1.900000     1460.826075  \n",
      "8               2.107124     1315.789565  \n",
      "9               1.224148     1286.793508  \n",
      "...                  ...             ...  \n",
      "7902                 NaN     2958.209004  \n",
      "7903                 NaN     3033.504852  \n",
      "7904                 NaN     3054.889178  \n",
      "7905                 NaN     3426.598094  \n",
      "7906                 NaN             NaN  \n",
      "\n",
      "[7902 rows x 4 columns]\n"
     ]
    }
   ],
   "source": [
    "print(outer_merged[5:])\n",
    "## Q:14"
   ]
  },
  {
   "cell_type": "code",
   "execution_count": 41,
   "id": "d5205d5a",
   "metadata": {},
   "outputs": [
    {
     "name": "stdout",
     "output_type": "stream",
     "text": [
      "       Country                                      Year  Internet_Users_PCT  \\\n",
      "7902  Zimbabwe                                      2015                 NaN   \n",
      "7903  Zimbabwe                                      1993                 NaN   \n",
      "7904  Zimbabwe                                      1992                 NaN   \n",
      "7905  Zimbabwe                                      1991                 NaN   \n",
      "7906         2  Excludes South Sudan after July 9, 2011.                 NaN   \n",
      "\n",
      "      GDP_Per_Capita  \n",
      "7902     2958.209004  \n",
      "7903     3033.504852  \n",
      "7904     3054.889178  \n",
      "7905     3426.598094  \n",
      "7906             NaN  \n"
     ]
    }
   ],
   "source": [
    "print(outer_merged[-5:])\n",
    "## Q:15"
   ]
  },
  {
   "cell_type": "code",
   "execution_count": null,
   "id": "ca1fbd03",
   "metadata": {},
   "outputs": [],
   "source": []
  }
 ],
 "metadata": {
  "kernelspec": {
   "display_name": "Python 3 (ipykernel)",
   "language": "python",
   "name": "python3"
  },
  "language_info": {
   "codemirror_mode": {
    "name": "ipython",
    "version": 3
   },
   "file_extension": ".py",
   "mimetype": "text/x-python",
   "name": "python",
   "nbconvert_exporter": "python",
   "pygments_lexer": "ipython3",
   "version": "3.9.7"
  }
 },
 "nbformat": 4,
 "nbformat_minor": 5
}
